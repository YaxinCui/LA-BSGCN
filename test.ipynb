{
 "cells": [
  {
   "cell_type": "markdown",
   "metadata": {},
   "source": [
    "en2es \n",
    "GCNEmb|GCNNum:\n",
    "(64,4),(256,4),(256,5)\n",
    "(10,5),(12,3),(14,3)\n",
    "\n",
    "en2fr\n",
    "(320,4),(384,4),(384,5)\n",
    "(10,7),(12,3),(14,3)\n",
    "\n",
    "\n",
    "es2en\n",
    "(128,4),(128,5),(320,5)\n",
    "(6,5),(12,7),(12,8)\n",
    "\n",
    "es2fr\n",
    "(64,2),(96,3),(128,2)\n",
    "(6,3),(10,3),(12,8)\n",
    "\n",
    "fr2en\n",
    "(320,5),(384,4),(384,5)\n",
    "(10,8),(12,5),(12,8)\n",
    "\n",
    "fr2es\n",
    "(128,3),(192,2),(256,5)\n",
    "(8,5),(8,7),(12,8)"
   ]
  },
  {
   "cell_type": "code",
   "execution_count": 9,
   "metadata": {},
   "outputs": [
    {
     "name": "stdout",
     "output_type": "stream",
     "text": [
      "mkdir ./RecordsDir/GCNEmb_128\\|GCNNum_3\\|NERDim_8\\|POSDim_5\n",
      "nohup python -u GCNModel.py --Source french  --GCNEmbedDim 128 --GCNLayerNum 3 --NEREmbedDim 8 --POSEmbedDim 5 > ./RecordsDir/GCNEmb_128\\|GCNNum_3\\|NERDim_8\\|POSDim_5/french2Others1.txt 2>&1\n",
      "nohup python -u GCNModel.py --Source french  --GCNEmbedDim 128 --GCNLayerNum 3 --NEREmbedDim 8 --POSEmbedDim 5 > ./RecordsDir/GCNEmb_128\\|GCNNum_3\\|NERDim_8\\|POSDim_5/french2Others2.txt 2>&1\n",
      "nohup python -u GCNModel.py --Source french  --GCNEmbedDim 128 --GCNLayerNum 3 --NEREmbedDim 8 --POSEmbedDim 5 > ./RecordsDir/GCNEmb_128\\|GCNNum_3\\|NERDim_8\\|POSDim_5/french2Others3.txt 2>&1\n",
      "\n",
      "mkdir ./RecordsDir/GCNEmb_128\\|GCNNum_3\\|NERDim_8\\|POSDim_7\n",
      "nohup python -u GCNModel.py --Source french  --GCNEmbedDim 128 --GCNLayerNum 3 --NEREmbedDim 8 --POSEmbedDim 7 > ./RecordsDir/GCNEmb_128\\|GCNNum_3\\|NERDim_8\\|POSDim_7/french2Others1.txt 2>&1\n",
      "nohup python -u GCNModel.py --Source french  --GCNEmbedDim 128 --GCNLayerNum 3 --NEREmbedDim 8 --POSEmbedDim 7 > ./RecordsDir/GCNEmb_128\\|GCNNum_3\\|NERDim_8\\|POSDim_7/french2Others2.txt 2>&1\n",
      "nohup python -u GCNModel.py --Source french  --GCNEmbedDim 128 --GCNLayerNum 3 --NEREmbedDim 8 --POSEmbedDim 7 > ./RecordsDir/GCNEmb_128\\|GCNNum_3\\|NERDim_8\\|POSDim_7/french2Others3.txt 2>&1\n",
      "\n",
      "mkdir ./RecordsDir/GCNEmb_128\\|GCNNum_3\\|NERDim_12\\|POSDim_8\n",
      "nohup python -u GCNModel.py --Source french  --GCNEmbedDim 128 --GCNLayerNum 3 --NEREmbedDim 12 --POSEmbedDim 8 > ./RecordsDir/GCNEmb_128\\|GCNNum_3\\|NERDim_12\\|POSDim_8/french2Others1.txt 2>&1\n",
      "nohup python -u GCNModel.py --Source french  --GCNEmbedDim 128 --GCNLayerNum 3 --NEREmbedDim 12 --POSEmbedDim 8 > ./RecordsDir/GCNEmb_128\\|GCNNum_3\\|NERDim_12\\|POSDim_8/french2Others2.txt 2>&1\n",
      "nohup python -u GCNModel.py --Source french  --GCNEmbedDim 128 --GCNLayerNum 3 --NEREmbedDim 12 --POSEmbedDim 8 > ./RecordsDir/GCNEmb_128\\|GCNNum_3\\|NERDim_12\\|POSDim_8/french2Others3.txt 2>&1\n",
      "\n",
      "mkdir ./RecordsDir/GCNEmb_192\\|GCNNum_2\\|NERDim_8\\|POSDim_5\n",
      "nohup python -u GCNModel.py --Source french  --GCNEmbedDim 192 --GCNLayerNum 2 --NEREmbedDim 8 --POSEmbedDim 5 > ./RecordsDir/GCNEmb_192\\|GCNNum_2\\|NERDim_8\\|POSDim_5/french2Others1.txt 2>&1\n",
      "nohup python -u GCNModel.py --Source french  --GCNEmbedDim 192 --GCNLayerNum 2 --NEREmbedDim 8 --POSEmbedDim 5 > ./RecordsDir/GCNEmb_192\\|GCNNum_2\\|NERDim_8\\|POSDim_5/french2Others2.txt 2>&1\n",
      "nohup python -u GCNModel.py --Source french  --GCNEmbedDim 192 --GCNLayerNum 2 --NEREmbedDim 8 --POSEmbedDim 5 > ./RecordsDir/GCNEmb_192\\|GCNNum_2\\|NERDim_8\\|POSDim_5/french2Others3.txt 2>&1\n",
      "\n",
      "mkdir ./RecordsDir/GCNEmb_192\\|GCNNum_2\\|NERDim_8\\|POSDim_7\n",
      "nohup python -u GCNModel.py --Source french  --GCNEmbedDim 192 --GCNLayerNum 2 --NEREmbedDim 8 --POSEmbedDim 7 > ./RecordsDir/GCNEmb_192\\|GCNNum_2\\|NERDim_8\\|POSDim_7/french2Others1.txt 2>&1\n",
      "nohup python -u GCNModel.py --Source french  --GCNEmbedDim 192 --GCNLayerNum 2 --NEREmbedDim 8 --POSEmbedDim 7 > ./RecordsDir/GCNEmb_192\\|GCNNum_2\\|NERDim_8\\|POSDim_7/french2Others2.txt 2>&1\n",
      "nohup python -u GCNModel.py --Source french  --GCNEmbedDim 192 --GCNLayerNum 2 --NEREmbedDim 8 --POSEmbedDim 7 > ./RecordsDir/GCNEmb_192\\|GCNNum_2\\|NERDim_8\\|POSDim_7/french2Others3.txt 2>&1\n",
      "\n",
      "mkdir ./RecordsDir/GCNEmb_192\\|GCNNum_2\\|NERDim_12\\|POSDim_8\n",
      "nohup python -u GCNModel.py --Source french  --GCNEmbedDim 192 --GCNLayerNum 2 --NEREmbedDim 12 --POSEmbedDim 8 > ./RecordsDir/GCNEmb_192\\|GCNNum_2\\|NERDim_12\\|POSDim_8/french2Others1.txt 2>&1\n",
      "nohup python -u GCNModel.py --Source french  --GCNEmbedDim 192 --GCNLayerNum 2 --NEREmbedDim 12 --POSEmbedDim 8 > ./RecordsDir/GCNEmb_192\\|GCNNum_2\\|NERDim_12\\|POSDim_8/french2Others2.txt 2>&1\n",
      "nohup python -u GCNModel.py --Source french  --GCNEmbedDim 192 --GCNLayerNum 2 --NEREmbedDim 12 --POSEmbedDim 8 > ./RecordsDir/GCNEmb_192\\|GCNNum_2\\|NERDim_12\\|POSDim_8/french2Others3.txt 2>&1\n",
      "\n",
      "mkdir ./RecordsDir/GCNEmb_256\\|GCNNum_5\\|NERDim_8\\|POSDim_5\n",
      "nohup python -u GCNModel.py --Source french  --GCNEmbedDim 256 --GCNLayerNum 5 --NEREmbedDim 8 --POSEmbedDim 5 > ./RecordsDir/GCNEmb_256\\|GCNNum_5\\|NERDim_8\\|POSDim_5/french2Others1.txt 2>&1\n",
      "nohup python -u GCNModel.py --Source french  --GCNEmbedDim 256 --GCNLayerNum 5 --NEREmbedDim 8 --POSEmbedDim 5 > ./RecordsDir/GCNEmb_256\\|GCNNum_5\\|NERDim_8\\|POSDim_5/french2Others2.txt 2>&1\n",
      "nohup python -u GCNModel.py --Source french  --GCNEmbedDim 256 --GCNLayerNum 5 --NEREmbedDim 8 --POSEmbedDim 5 > ./RecordsDir/GCNEmb_256\\|GCNNum_5\\|NERDim_8\\|POSDim_5/french2Others3.txt 2>&1\n",
      "\n",
      "mkdir ./RecordsDir/GCNEmb_256\\|GCNNum_5\\|NERDim_8\\|POSDim_7\n",
      "nohup python -u GCNModel.py --Source french  --GCNEmbedDim 256 --GCNLayerNum 5 --NEREmbedDim 8 --POSEmbedDim 7 > ./RecordsDir/GCNEmb_256\\|GCNNum_5\\|NERDim_8\\|POSDim_7/french2Others1.txt 2>&1\n",
      "nohup python -u GCNModel.py --Source french  --GCNEmbedDim 256 --GCNLayerNum 5 --NEREmbedDim 8 --POSEmbedDim 7 > ./RecordsDir/GCNEmb_256\\|GCNNum_5\\|NERDim_8\\|POSDim_7/french2Others2.txt 2>&1\n",
      "nohup python -u GCNModel.py --Source french  --GCNEmbedDim 256 --GCNLayerNum 5 --NEREmbedDim 8 --POSEmbedDim 7 > ./RecordsDir/GCNEmb_256\\|GCNNum_5\\|NERDim_8\\|POSDim_7/french2Others3.txt 2>&1\n",
      "\n",
      "mkdir ./RecordsDir/GCNEmb_256\\|GCNNum_5\\|NERDim_12\\|POSDim_8\n",
      "nohup python -u GCNModel.py --Source french  --GCNEmbedDim 256 --GCNLayerNum 5 --NEREmbedDim 12 --POSEmbedDim 8 > ./RecordsDir/GCNEmb_256\\|GCNNum_5\\|NERDim_12\\|POSDim_8/french2Others1.txt 2>&1\n",
      "nohup python -u GCNModel.py --Source french  --GCNEmbedDim 256 --GCNLayerNum 5 --NEREmbedDim 12 --POSEmbedDim 8 > ./RecordsDir/GCNEmb_256\\|GCNNum_5\\|NERDim_12\\|POSDim_8/french2Others2.txt 2>&1\n",
      "nohup python -u GCNModel.py --Source french  --GCNEmbedDim 256 --GCNLayerNum 5 --NEREmbedDim 12 --POSEmbedDim 8 > ./RecordsDir/GCNEmb_256\\|GCNNum_5\\|NERDim_12\\|POSDim_8/french2Others3.txt 2>&1\n",
      "\n"
     ]
    }
   ],
   "source": [
    "# fr2en\n",
    "Source=\"french\"\n",
    "\n",
    "for GCNEmbedDim, GCNLayerNum in [(128,3),(192,2),(256,5)]:\n",
    "    for NEREmbedDim, POSEmbedDim in [(8,5),(8,7),(12,8)]:\n",
    "        paramDir=f\"./RecordsDir/GCNEmb_{GCNEmbedDim}\\|GCNNum_{GCNLayerNum}\\|NERDim_{NEREmbedDim}\\|POSDim_{POSEmbedDim}\"\n",
    "        print(f\"mkdir {paramDir}\")\n",
    "        for seed in [1, 2, 3]:\n",
    "            print(f\"nohup python -u GCNModel.py --Source {Source}  --GCNEmbedDim {GCNEmbedDim} --GCNLayerNum {GCNLayerNum} --NEREmbedDim {NEREmbedDim} --POSEmbedDim {POSEmbedDim} > {paramDir}/{Source}2Others{seed}.txt 2>&1\")\n",
    "        print()"
   ]
  },
  {
   "cell_type": "code",
   "execution_count": 8,
   "metadata": {},
   "outputs": [
    {
     "name": "stdout",
     "output_type": "stream",
     "text": [
      "mkdir ./RecordsDir/GCNEmb_320\\|GCNNum_5\\|NERDim_10\\|POSDim_8\n",
      "nohup python -u GCNModel.py --Source french  --GCNEmbedDim 320 --GCNLayerNum 5 --NEREmbedDim 10 --POSEmbedDim 8 > ./RecordsDir/GCNEmb_320\\|GCNNum_5\\|NERDim_10\\|POSDim_8/french2Others1.txt 2>&1\n",
      "nohup python -u GCNModel.py --Source french  --GCNEmbedDim 320 --GCNLayerNum 5 --NEREmbedDim 10 --POSEmbedDim 8 > ./RecordsDir/GCNEmb_320\\|GCNNum_5\\|NERDim_10\\|POSDim_8/french2Others2.txt 2>&1\n",
      "nohup python -u GCNModel.py --Source french  --GCNEmbedDim 320 --GCNLayerNum 5 --NEREmbedDim 10 --POSEmbedDim 8 > ./RecordsDir/GCNEmb_320\\|GCNNum_5\\|NERDim_10\\|POSDim_8/french2Others3.txt 2>&1\n",
      "\n",
      "mkdir ./RecordsDir/GCNEmb_320\\|GCNNum_5\\|NERDim_12\\|POSDim_5\n",
      "nohup python -u GCNModel.py --Source french  --GCNEmbedDim 320 --GCNLayerNum 5 --NEREmbedDim 12 --POSEmbedDim 5 > ./RecordsDir/GCNEmb_320\\|GCNNum_5\\|NERDim_12\\|POSDim_5/french2Others1.txt 2>&1\n",
      "nohup python -u GCNModel.py --Source french  --GCNEmbedDim 320 --GCNLayerNum 5 --NEREmbedDim 12 --POSEmbedDim 5 > ./RecordsDir/GCNEmb_320\\|GCNNum_5\\|NERDim_12\\|POSDim_5/french2Others2.txt 2>&1\n",
      "nohup python -u GCNModel.py --Source french  --GCNEmbedDim 320 --GCNLayerNum 5 --NEREmbedDim 12 --POSEmbedDim 5 > ./RecordsDir/GCNEmb_320\\|GCNNum_5\\|NERDim_12\\|POSDim_5/french2Others3.txt 2>&1\n",
      "\n",
      "mkdir ./RecordsDir/GCNEmb_320\\|GCNNum_5\\|NERDim_12\\|POSDim_8\n",
      "nohup python -u GCNModel.py --Source french  --GCNEmbedDim 320 --GCNLayerNum 5 --NEREmbedDim 12 --POSEmbedDim 8 > ./RecordsDir/GCNEmb_320\\|GCNNum_5\\|NERDim_12\\|POSDim_8/french2Others1.txt 2>&1\n",
      "nohup python -u GCNModel.py --Source french  --GCNEmbedDim 320 --GCNLayerNum 5 --NEREmbedDim 12 --POSEmbedDim 8 > ./RecordsDir/GCNEmb_320\\|GCNNum_5\\|NERDim_12\\|POSDim_8/french2Others2.txt 2>&1\n",
      "nohup python -u GCNModel.py --Source french  --GCNEmbedDim 320 --GCNLayerNum 5 --NEREmbedDim 12 --POSEmbedDim 8 > ./RecordsDir/GCNEmb_320\\|GCNNum_5\\|NERDim_12\\|POSDim_8/french2Others3.txt 2>&1\n",
      "\n",
      "mkdir ./RecordsDir/GCNEmb_384\\|GCNNum_4\\|NERDim_10\\|POSDim_8\n",
      "nohup python -u GCNModel.py --Source french  --GCNEmbedDim 384 --GCNLayerNum 4 --NEREmbedDim 10 --POSEmbedDim 8 > ./RecordsDir/GCNEmb_384\\|GCNNum_4\\|NERDim_10\\|POSDim_8/french2Others1.txt 2>&1\n",
      "nohup python -u GCNModel.py --Source french  --GCNEmbedDim 384 --GCNLayerNum 4 --NEREmbedDim 10 --POSEmbedDim 8 > ./RecordsDir/GCNEmb_384\\|GCNNum_4\\|NERDim_10\\|POSDim_8/french2Others2.txt 2>&1\n",
      "nohup python -u GCNModel.py --Source french  --GCNEmbedDim 384 --GCNLayerNum 4 --NEREmbedDim 10 --POSEmbedDim 8 > ./RecordsDir/GCNEmb_384\\|GCNNum_4\\|NERDim_10\\|POSDim_8/french2Others3.txt 2>&1\n",
      "\n",
      "mkdir ./RecordsDir/GCNEmb_384\\|GCNNum_4\\|NERDim_12\\|POSDim_5\n",
      "nohup python -u GCNModel.py --Source french  --GCNEmbedDim 384 --GCNLayerNum 4 --NEREmbedDim 12 --POSEmbedDim 5 > ./RecordsDir/GCNEmb_384\\|GCNNum_4\\|NERDim_12\\|POSDim_5/french2Others1.txt 2>&1\n",
      "nohup python -u GCNModel.py --Source french  --GCNEmbedDim 384 --GCNLayerNum 4 --NEREmbedDim 12 --POSEmbedDim 5 > ./RecordsDir/GCNEmb_384\\|GCNNum_4\\|NERDim_12\\|POSDim_5/french2Others2.txt 2>&1\n",
      "nohup python -u GCNModel.py --Source french  --GCNEmbedDim 384 --GCNLayerNum 4 --NEREmbedDim 12 --POSEmbedDim 5 > ./RecordsDir/GCNEmb_384\\|GCNNum_4\\|NERDim_12\\|POSDim_5/french2Others3.txt 2>&1\n",
      "\n",
      "mkdir ./RecordsDir/GCNEmb_384\\|GCNNum_4\\|NERDim_12\\|POSDim_8\n",
      "nohup python -u GCNModel.py --Source french  --GCNEmbedDim 384 --GCNLayerNum 4 --NEREmbedDim 12 --POSEmbedDim 8 > ./RecordsDir/GCNEmb_384\\|GCNNum_4\\|NERDim_12\\|POSDim_8/french2Others1.txt 2>&1\n",
      "nohup python -u GCNModel.py --Source french  --GCNEmbedDim 384 --GCNLayerNum 4 --NEREmbedDim 12 --POSEmbedDim 8 > ./RecordsDir/GCNEmb_384\\|GCNNum_4\\|NERDim_12\\|POSDim_8/french2Others2.txt 2>&1\n",
      "nohup python -u GCNModel.py --Source french  --GCNEmbedDim 384 --GCNLayerNum 4 --NEREmbedDim 12 --POSEmbedDim 8 > ./RecordsDir/GCNEmb_384\\|GCNNum_4\\|NERDim_12\\|POSDim_8/french2Others3.txt 2>&1\n",
      "\n",
      "mkdir ./RecordsDir/GCNEmb_384\\|GCNNum_5\\|NERDim_10\\|POSDim_8\n",
      "nohup python -u GCNModel.py --Source french  --GCNEmbedDim 384 --GCNLayerNum 5 --NEREmbedDim 10 --POSEmbedDim 8 > ./RecordsDir/GCNEmb_384\\|GCNNum_5\\|NERDim_10\\|POSDim_8/french2Others1.txt 2>&1\n",
      "nohup python -u GCNModel.py --Source french  --GCNEmbedDim 384 --GCNLayerNum 5 --NEREmbedDim 10 --POSEmbedDim 8 > ./RecordsDir/GCNEmb_384\\|GCNNum_5\\|NERDim_10\\|POSDim_8/french2Others2.txt 2>&1\n",
      "nohup python -u GCNModel.py --Source french  --GCNEmbedDim 384 --GCNLayerNum 5 --NEREmbedDim 10 --POSEmbedDim 8 > ./RecordsDir/GCNEmb_384\\|GCNNum_5\\|NERDim_10\\|POSDim_8/french2Others3.txt 2>&1\n",
      "\n",
      "mkdir ./RecordsDir/GCNEmb_384\\|GCNNum_5\\|NERDim_12\\|POSDim_5\n",
      "nohup python -u GCNModel.py --Source french  --GCNEmbedDim 384 --GCNLayerNum 5 --NEREmbedDim 12 --POSEmbedDim 5 > ./RecordsDir/GCNEmb_384\\|GCNNum_5\\|NERDim_12\\|POSDim_5/french2Others1.txt 2>&1\n",
      "nohup python -u GCNModel.py --Source french  --GCNEmbedDim 384 --GCNLayerNum 5 --NEREmbedDim 12 --POSEmbedDim 5 > ./RecordsDir/GCNEmb_384\\|GCNNum_5\\|NERDim_12\\|POSDim_5/french2Others2.txt 2>&1\n",
      "nohup python -u GCNModel.py --Source french  --GCNEmbedDim 384 --GCNLayerNum 5 --NEREmbedDim 12 --POSEmbedDim 5 > ./RecordsDir/GCNEmb_384\\|GCNNum_5\\|NERDim_12\\|POSDim_5/french2Others3.txt 2>&1\n",
      "\n",
      "mkdir ./RecordsDir/GCNEmb_384\\|GCNNum_5\\|NERDim_12\\|POSDim_8\n",
      "nohup python -u GCNModel.py --Source french  --GCNEmbedDim 384 --GCNLayerNum 5 --NEREmbedDim 12 --POSEmbedDim 8 > ./RecordsDir/GCNEmb_384\\|GCNNum_5\\|NERDim_12\\|POSDim_8/french2Others1.txt 2>&1\n",
      "nohup python -u GCNModel.py --Source french  --GCNEmbedDim 384 --GCNLayerNum 5 --NEREmbedDim 12 --POSEmbedDim 8 > ./RecordsDir/GCNEmb_384\\|GCNNum_5\\|NERDim_12\\|POSDim_8/french2Others2.txt 2>&1\n",
      "nohup python -u GCNModel.py --Source french  --GCNEmbedDim 384 --GCNLayerNum 5 --NEREmbedDim 12 --POSEmbedDim 8 > ./RecordsDir/GCNEmb_384\\|GCNNum_5\\|NERDim_12\\|POSDim_8/french2Others3.txt 2>&1\n",
      "\n"
     ]
    }
   ],
   "source": [
    "# fr2en\n",
    "Source=\"french\"\n",
    "\n",
    "for GCNEmbedDim, GCNLayerNum in [(320,5),(384,4),(384,5)]:\n",
    "    for NEREmbedDim, POSEmbedDim in [(10,8),(12,5),(12,8)]:\n",
    "        paramDir=f\"./RecordsDir/GCNEmb_{GCNEmbedDim}\\|GCNNum_{GCNLayerNum}\\|NERDim_{NEREmbedDim}\\|POSDim_{POSEmbedDim}\"\n",
    "        print(f\"mkdir {paramDir}\")\n",
    "        for seed in [1, 2, 3]:\n",
    "            print(f\"nohup python -u GCNModel.py --Source {Source}  --GCNEmbedDim {GCNEmbedDim} --GCNLayerNum {GCNLayerNum} --NEREmbedDim {NEREmbedDim} --POSEmbedDim {POSEmbedDim} > {paramDir}/{Source}2Others{seed}.txt 2>&1\")\n",
    "        print()"
   ]
  },
  {
   "cell_type": "code",
   "execution_count": null,
   "metadata": {},
   "outputs": [],
   "source": [
    "# es2fr\n",
    "Source=\"spanish\"\n",
    "\n",
    "for GCNEmbedDim, GCNLayerNum in [(64,2),(96,3),(128,2)]:\n",
    "    for NEREmbedDim, POSEmbedDim in [(6,3),(10,3),(12,8)]:\n",
    "        paramDir=f\"./RecordsDir/GCNEmb_{GCNEmbedDim}\\|GCNNum_{GCNLayerNum}\\|NERDim_{NEREmbedDim}\\|POSDim_{POSEmbedDim}\"\n",
    "        print(f\"mkdir {paramDir}\")\n",
    "        for seed in [1, 2, 3]:\n",
    "            print(f\"nohup python -u GCNModel.py --Source {Source}  --GCNEmbedDim {GCNEmbedDim} --GCNLayerNum {GCNLayerNum} --NEREmbedDim {NEREmbedDim} --POSEmbedDim {POSEmbedDim} > {paramDir}/{Source}2Others{seed}.txt 2>&1\")\n",
    "        print()"
   ]
  },
  {
   "cell_type": "code",
   "execution_count": null,
   "metadata": {},
   "outputs": [],
   "source": [
    "# es2en\n",
    "Source=\"spanish\"\n",
    "\n",
    "for GCNEmbedDim, GCNLayerNum in [(128,4),(128,5),(320,5)]:\n",
    "    for NEREmbedDim, POSEmbedDim in [(6,5),(12,7),(12,8)]:\n",
    "        paramDir=f\"./RecordsDir/GCNEmb_{GCNEmbedDim}\\|GCNNum_{GCNLayerNum}\\|NERDim_{NEREmbedDim}\\|POSDim_{POSEmbedDim}\"\n",
    "        print(f\"mkdir {paramDir}\")\n",
    "        for seed in [1, 2, 3]:\n",
    "            print(f\"nohup python -u GCNModel.py --Source {Source}  --GCNEmbedDim {GCNEmbedDim} --GCNLayerNum {GCNLayerNum} --NEREmbedDim {NEREmbedDim} --POSEmbedDim {POSEmbedDim} > {paramDir}/{Source}2Others{seed}.txt 2>&1\")\n",
    "        print()"
   ]
  },
  {
   "cell_type": "code",
   "execution_count": null,
   "metadata": {},
   "outputs": [],
   "source": [
    "# en2fr\n",
    "Source=\"english\"\n",
    "\n",
    "for GCNEmbedDim, GCNLayerNum in [(320,4),(384,4),(384,5)]:\n",
    "    for NEREmbedDim, POSEmbedDim in [(10,7),(12,3),(14,3)]:\n",
    "        paramDir=f\"./RecordsDir/GCNEmb_{GCNEmbedDim}\\|GCNNum_{GCNLayerNum}\\|NERDim_{NEREmbedDim}\\|POSDim_{POSEmbedDim}\"\n",
    "        print(f\"mkdir {paramDir}\")\n",
    "        for seed in [1, 2, 3]:\n",
    "            print(f\"nohup python -u GCNModel.py --Source {Source}  --GCNEmbedDim {GCNEmbedDim} --GCNLayerNum {GCNLayerNum} --NEREmbedDim {NEREmbedDim} --POSEmbedDim {POSEmbedDim} > {paramDir}/{Source}2Others{seed}.txt 2>&1\")\n",
    "        print()"
   ]
  },
  {
   "cell_type": "code",
   "execution_count": null,
   "metadata": {},
   "outputs": [],
   "source": [
    "# en2es\n",
    "Source=\"english\"\n",
    "for GCNEmbedDim, GCNLayerNum in [(64,4),(256,4),(256,5)]:\n",
    "    for NEREmbedDim, POSEmbedDim in [(10,5),(12,3),(14,3)]:\n",
    "        paramDir=f\"./RecordsDir/GCNEmb_{GCNEmbedDim}\\|GCNNum_{GCNLayerNum}\\|NERDim_{NEREmbedDim}\\|POSDim_{POSEmbedDim}\"\n",
    "        print(f\"mkdir {paramDir}\")\n",
    "        for seed in [1, 2, 3]:\n",
    "            print(f\"nohup python -u GCNModel.py --Source {Source}  --GCNEmbedDim {GCNEmbedDim} --GCNLayerNum {GCNLayerNum} --NEREmbedDim {NEREmbedDim} --POSEmbedDim {POSEmbedDim} > {paramDir}/{Source}2Others{seed}.txt 2>&1\")\n",
    "        print()"
   ]
  },
  {
   "cell_type": "code",
   "execution_count": null,
   "metadata": {},
   "outputs": [],
   "source": []
  }
 ],
 "metadata": {
  "interpreter": {
   "hash": "d4d1e4263499bec80672ea0156c357c1ee493ec2b1c70f0acce89fc37c4a6abe"
  },
  "kernelspec": {
   "display_name": "Python 3.7.11 ('base')",
   "language": "python",
   "name": "python3"
  },
  "language_info": {
   "codemirror_mode": {
    "name": "ipython",
    "version": 3
   },
   "file_extension": ".py",
   "mimetype": "text/x-python",
   "name": "python",
   "nbconvert_exporter": "python",
   "pygments_lexer": "ipython3",
   "version": "3.7.11"
  },
  "orig_nbformat": 4
 },
 "nbformat": 4,
 "nbformat_minor": 2
}
